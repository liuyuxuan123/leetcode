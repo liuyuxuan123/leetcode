{
 "cells": [
  {
   "cell_type": "markdown",
   "metadata": {},
   "source": [
    "# 720. Longest Word in Dictionary"
   ]
  },
  {
   "cell_type": "markdown",
   "metadata": {},
   "source": [
    "### Given a list of strings words representing an English Dictionary, find the longest word in words that can be built one character at a time by other words in words. If there is more than one possible answer, return the longest word with the smallest lexicographical order.If there is no answer, return the empty string."
   ]
  },
  {
   "cell_type": "code",
   "execution_count": 3,
   "metadata": {},
   "outputs": [],
   "source": [
    "words = [\"t\",\"ti\",\"tig\",\"tige\",\"tiger\",\"e\",\"en\",\"eng\",\"engl\",\"engli\",\"englis\",\"english\",\"h\",\"hi\",\"his\",\"hist\",\"histo\",\"histor\",\"history\"]"
   ]
  },
  {
   "cell_type": "code",
   "execution_count": 11,
   "metadata": {},
   "outputs": [],
   "source": [
    "#words.sort(key = len)\n",
    "words_order = sorted(words,key= len)\n",
    "words_set = sorted(words_order)\n",
    "ans = \"\"\n",
    "for word in words:\n",
    "    if len(word) > len(ans) or len(word) == len(ans) and ans > word:\n",
    "        if all(word[:k] in wordset for k in range(1, len(word))):\n",
    "            ans = word"
   ]
  },
  {
   "cell_type": "code",
   "execution_count": 12,
   "metadata": {},
   "outputs": [
    {
     "data": {
      "text/plain": [
       "'english'"
      ]
     },
     "execution_count": 12,
     "metadata": {},
     "output_type": "execute_result"
    }
   ],
   "source": [
    "ans"
   ]
  },
  {
   "cell_type": "code",
   "execution_count": 14,
   "metadata": {},
   "outputs": [],
   "source": [
    "words_order = sorted(words,key= len)\n",
    "words_set = sorted(words_order)\n",
    "ans = \"\"\n",
    "for word in words:\n",
    "    if len(word) > len(ans):\n",
    "        if all(word[:k] in words_set for k in range(1, len(word))):\n",
    "            ans = word"
   ]
  },
  {
   "cell_type": "code",
   "execution_count": null,
   "metadata": {},
   "outputs": [],
   "source": []
  },
  {
   "cell_type": "code",
   "execution_count": null,
   "metadata": {},
   "outputs": [],
   "source": []
  }
 ],
 "metadata": {
  "kernelspec": {
   "display_name": "Python 3",
   "language": "python",
   "name": "python3"
  },
  "language_info": {
   "codemirror_mode": {
    "name": "ipython",
    "version": 3
   },
   "file_extension": ".py",
   "mimetype": "text/x-python",
   "name": "python",
   "nbconvert_exporter": "python",
   "pygments_lexer": "ipython3",
   "version": "3.6.3"
  }
 },
 "nbformat": 4,
 "nbformat_minor": 2
}
